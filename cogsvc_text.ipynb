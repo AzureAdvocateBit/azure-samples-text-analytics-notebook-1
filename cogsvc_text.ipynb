{
 "cells": [
  {
   "cell_type": "markdown",
   "metadata": {},
   "source": [
    "# Cognitive Services Text Analytics Sample\r\n",
    "\r\n",
    "This sample uses 10 random Tweets that use the #vscode hashtag to analyze key words and sentiment with Azure Cognitive Services' [Text Analytics](https://azure.microsoft.com/en-us/services/cognitive-services/text-analytics/) service, using the Python API.\r\n",
    "\r\n",
    "## How to use\r\n",
    "\r\n",
    " - Load this [notebook in VSCode](https://code.visualstudio.com/docs/languages/python?WT.mc_id=academic-26005-jasmineg) or your favorite notebook platform. **Recommended**: use a [virtual environment](https://python.land/virtual-environments/virtualenv)\r\n",
    " - Create a text analytics resource in Azure. The Free F0 pricing tier will work for this sample. [Start here](https://ms.portal.azure.com/#create/Microsoft.CognitiveServicesTextAnalytics)\r\n",
    " - When the resource is created, open the resource and go to the “keys and endpoint blade” in the left of the page. Copy the key and endpoint. \r\n",
    " - Update the environment variables in the .env_sample file with your copied values from the last step\r\n",
    " - Rename .env_sample to .env\r\n",
    " - Run the notebook\r\n"
   ]
  },
  {
   "cell_type": "code",
   "execution_count": 60,
   "metadata": {},
   "outputs": [],
   "source": [
    "# load packages\r\n",
    "import os\r\n",
    "from azure.core.credentials import AzureKeyCredential\r\n",
    "from azure.ai.textanalytics import TextAnalyticsClient\r\n",
    "from dotenv import load_dotenv\r\n",
    "\r\n",
    "load_dotenv()  # take environment variables from .env.\r\n",
    "endpoint = os.environ[\"AZURE_TEXT_ANALYTICS_ENDPOINT\"]\r\n",
    "key = os.environ[\"AZURE_TEXT_ANALYTICS_KEY\"]\r\n"
   ]
  },
  {
   "cell_type": "code",
   "execution_count": 61,
   "metadata": {},
   "outputs": [],
   "source": [
    "# Sample tweets\r\n",
    "documents = [\r\n",
    "    \"Why can I not undock/drag a tab to a new window in #vscode?\",\r\n",
    "    \"Meu novo artigo, como manter somente as extensão do VSCode para a tecnologia que estou utilizando no momento? #vscode #js #react #vue #svelte #angular #java #kotlin #flutter #python #ruby #golang\",\r\n",
    "    \"／ 今日も引き続き、 Python、頑張りますっ👌 ＼  テキストエディタに、 VS Code使ってみました☺️  ■メリット ・キーワードが色付き表示 ・ガイド付きインデント ・予測候補の表示 ・エラーチェック ・プログラムの自動整形 など  結果、使いやすい‼️  #Python #VSCode #今日の積み上げ #積み上げ\",\r\n",
    "    \"#iOS15 will show how #M1 SoC in the new #iPadPro useable is...  Let’s hope for: - Real external display support, not just mirroring. - Support native version of #Xcode,  subsequently iPad version of #VSCode from Microsoft. - First-party Terminal app\",\r\n",
    "    \"VS Code Python Tooling Gets 'Most Requested' Feature: Poetry Support  Poetry eases Python packaging and dependency management. #vscode #Python #PyTorch #pylance https://t.co/IkZXoPtbKU\",\r\n",
    "    \"#Emacs #Vim #VsCode #Atom Okay all you users of editors ! @OdatNurd is giving away...that is right Giving away licenses to #SublimeText   Even better is he streams about how you use it efficiently all the time !  Join the Movement #SublimeTextFanatic\",\r\n",
    "    \"If you have a shiny new #m1 mac, #slscan is now natively supported thanks to #docker and #vscode. Install this extension and get started with #security scanning https://t.co/Bk5Lte1Xuv\",\r\n",
    "    \"VS Code Python Tooling Gets 'Most Requested' Feature: Poetry Support  Poetry eases Python packaging and dependency management.#vscode #Python #PyTorch #pylance https://t.co/IkZXoPtbKU\",\r\n",
    "    \"Now that I understand how to set up a toolchain and enable step-through debugging for #embedded systems, I gotta say--I'm now a fan of #VSCode for C/C++ dev work. 👍\",\r\n",
    "    \"Are you using #MicrosoftGraph and/or the #MicrosoftGraphToolkit? Check out this #VSCode extension with snippets, autocompletion, and more to help you develop great solutions  https://t.co/g7ZFWW26Uh  #Development #m365dev #DevEssentials https://t.co/MssPX0bVxb\",\r\n",
    "]\r\n"
   ]
  },
  {
   "cell_type": "code",
   "execution_count": 62,
   "metadata": {},
   "outputs": [
    {
     "name": "stdout",
     "output_type": "stream",
     "text": [
      "Document text: Why can I not undock/drag a tab to a new window in #vscode?  \n",
      " Overall sentiment: neutral  Confidence: {'positive': 0.01, 'neutral': 0.69, 'negative': 0.3} \n",
      " \n",
      "Document text: Meu novo artigo, como manter somente as extensão do VSCode para a tecnologia que estou utilizando no momento? #vscode #js #react #vue #svelte #angular #java #kotlin #flutter #python #ruby #golang  \n",
      " Overall sentiment: neutral  Confidence: {'positive': 0.06, 'neutral': 0.76, 'negative': 0.18} \n",
      " \n",
      "Document text: ／ 今日も引き続き、 Python、頑張りますっ👌 ＼  テキストエディタに、 VS Code使ってみました☺️  ■メリット ・キーワードが色付き表示 ・ガイド付きインデント ・予測候補の表示 ・エラーチェック ・プログラムの自動整形 など  結果、使いやすい‼️  #Python #VSCode #今日の積み上げ #積み上げ  \n",
      " Overall sentiment: neutral  Confidence: {'positive': 0.03, 'neutral': 0.97, 'negative': 0.0} \n",
      " \n",
      "Document text: #iOS15 will show how #M1 SoC in the new #iPadPro useable is...  Let’s hope for: - Real external display support, not just mirroring. - Support native version of #Xcode,  subsequently iPad version of #VSCode from Microsoft. - First-party Terminal app  \n",
      " Overall sentiment: positive  Confidence: {'positive': 0.96, 'neutral': 0.03, 'negative': 0.01} \n",
      " \n",
      "Document text: VS Code Python Tooling Gets 'Most Requested' Feature: Poetry Support  Poetry eases Python packaging and dependency management. #vscode #Python #PyTorch #pylance https://t.co/IkZXoPtbKU  \n",
      " Overall sentiment: neutral  Confidence: {'positive': 0.14, 'neutral': 0.85, 'negative': 0.01} \n",
      " \n",
      "Document text: #Emacs #Vim #VsCode #Atom Okay all you users of editors ! @OdatNurd is giving away...that is right Giving away licenses to #SublimeText   Even better is he streams about how you use it efficiently all the time !  Join the Movement #SublimeTextFanatic  \n",
      " Overall sentiment: positive  Confidence: {'positive': 0.94, 'neutral': 0.03, 'negative': 0.03} \n",
      " \n",
      "Document text: If you have a shiny new #m1 mac, #slscan is now natively supported thanks to #docker and #vscode. Install this extension and get started with #security scanning https://t.co/Bk5Lte1Xuv  \n",
      " Overall sentiment: positive  Confidence: {'positive': 0.98, 'neutral': 0.01, 'negative': 0.01} \n",
      " \n",
      "Document text: VS Code Python Tooling Gets 'Most Requested' Feature: Poetry Support  Poetry eases Python packaging and dependency management.#vscode #Python #PyTorch #pylance https://t.co/IkZXoPtbKU  \n",
      " Overall sentiment: neutral  Confidence: {'positive': 0.1, 'neutral': 0.89, 'negative': 0.01} \n",
      " \n",
      "Document text: Now that I understand how to set up a toolchain and enable step-through debugging for #embedded systems, I gotta say--I'm now a fan of #VSCode for C/C++ dev work. 👍  \n",
      " Overall sentiment: neutral  Confidence: {'positive': 0.27, 'neutral': 0.69, 'negative': 0.04} \n",
      " \n",
      "Document text: Are you using #MicrosoftGraph and/or the #MicrosoftGraphToolkit? Check out this #VSCode extension with snippets, autocompletion, and more to help you develop great solutions  https://t.co/g7ZFWW26Uh  #Development #m365dev #DevEssentials https://t.co/MssPX0bVxb  \n",
      " Overall sentiment: positive  Confidence: {'positive': 0.85, 'neutral': 0.15, 'negative': 0.0} \n",
      " \n"
     ]
    }
   ],
   "source": [
    "# Load the text analytics client and analyze sentiment\r\n",
    "text_analytics_client = TextAnalyticsClient(endpoint=endpoint, credential=AzureKeyCredential(key))\r\n",
    "result = text_analytics_client.analyze_sentiment(documents)\r\n",
    "docs = [doc for doc in result if not doc.is_error]\r\n",
    "\r\n",
    "for idx, doc in enumerate(docs):\r\n",
    "    print(\"Document text: {}  \\n Overall sentiment: {}  Confidence: {} \\n \".format(documents[idx], doc.sentiment, doc.confidence_scores))\r\n"
   ]
  },
  {
   "cell_type": "code",
   "execution_count": 63,
   "metadata": {},
   "outputs": [
    {
     "name": "stdout",
     "output_type": "stream",
     "text": [
      "Tweet text: 'Why can I not undock/drag a tab to a new window in #vscode?' \n",
      " Key Phrases '['new window', 'tab', 'vscode']' \n",
      "\n",
      "Tweet text: 'Meu novo artigo, como manter somente as extensão do VSCode para a tecnologia que estou utilizando no momento? #vscode #js #react #vue #svelte #angular #java #kotlin #flutter #python #ruby #golang' \n",
      " Key Phrases '['VSCode para', 'extensão', 'como manter somente', 'tecnologia que estou utilizando', 'flutter', 'kotlin', 'java', 'Meu novo artigo', 'python', 'vue']' \n",
      "\n",
      "Tweet text: '／ 今日も引き続き、 Python、頑張りますっ👌 ＼  テキストエディタに、 VS Code使ってみました☺️  ■メリット ・キーワードが色付き表示 ・ガイド付きインデント ・予測候補の表示 ・エラーチェック ・プログラムの自動整形 など  結果、使いやすい‼️  #Python #VSCode #今日の積み上げ #積み上げ' \n",
      " Key Phrases '['Python', '予測候補の表示', 'エラーチェック', 'メリット', 'テキストエディタに', '使いやすい', 'VS Code使ってみました', 'プログラムの自動整形 など  結果', '頑張りますっ', 'キーワードが色付き表示']' \n",
      "\n",
      "Tweet text: '#iOS15 will show how #M1 SoC in the new #iPadPro useable is...  Let’s hope for: - Real external display support, not just mirroring. - Support native version of #Xcode,  subsequently iPad version of #VSCode from Microsoft. - First-party Terminal app' \n",
      " Key Phrases '['Support native version', 'iPad version', 'Real external display support', 'Xcode', 'M1 SoC', 'iPadPro useable', 'VSCode', 'Microsoft', 'party Terminal app', 'iOS15']' \n",
      "\n",
      "Tweet text: 'VS Code Python Tooling Gets 'Most Requested' Feature: Poetry Support  Poetry eases Python packaging and dependency management. #vscode #Python #PyTorch #pylance https://t.co/IkZXoPtbKU' \n",
      " Key Phrases '['Poetry Support  Poetry eases Python packaging', 'VS Code Python Tooling', 'Feature', 'dependency management', 'vscode', 'PyTorch', 'pylance']' \n",
      "\n",
      "Tweet text: '#Emacs #Vim #VsCode #Atom Okay all you users of editors ! @OdatNurd is giving away...that is right Giving away licenses to #SublimeText   Even better is he streams about how you use it efficiently all the time !  Join the Movement #SublimeTextFanatic' \n",
      " Key Phrases '['Atom Okay', 'VsCode', 'Vim', 'users of editors', 'Emacs', 'licenses', 'Movement', 'SublimeTextFanatic', 'OdatNurd', 'time']' \n",
      "\n",
      "Tweet text: 'If you have a shiny new #m1 mac, #slscan is now natively supported thanks to #docker and #vscode. Install this extension and get started with #security scanning https://t.co/Bk5Lte1Xuv' \n",
      " Key Phrases '['slscan', 'm1 mac', 'supported thanks', 'docker', 'vscode', 'security scanning', 'extension']' \n",
      "\n",
      "Tweet text: 'VS Code Python Tooling Gets 'Most Requested' Feature: Poetry Support  Poetry eases Python packaging and dependency management.#vscode #Python #PyTorch #pylance https://t.co/IkZXoPtbKU' \n",
      " Key Phrases '['Poetry Support  Poetry eases Python packaging', 'VS Code Python Tooling', 'dependency management', 'vscode', 'Feature', 'PyTorch', 'pylance']' \n",
      "\n",
      "Tweet text: 'Now that I understand how to set up a toolchain and enable step-through debugging for #embedded systems, I gotta say--I'm now a fan of #VSCode for C/C++ dev work. 👍' \n",
      " Key Phrases '['VSCode', 'debugging', 'C++ dev work', 'embedded systems', 'step', 'gotta', 'toolchain', 'fan']' \n",
      "\n",
      "Tweet text: 'Are you using #MicrosoftGraph and/or the #MicrosoftGraphToolkit? Check out this #VSCode extension with snippets, autocompletion, and more to help you develop great solutions  https://t.co/g7ZFWW26Uh  #Development #m365dev #DevEssentials https://t.co/MssPX0bVxb' \n",
      " Key Phrases '['Development', 'm365dev', 'VSCode extension', 'snippets', 'autocompletion', 'great solutions', 'DevEssentials', 'MicrosoftGraphToolkit']' \n",
      "\n"
     ]
    }
   ],
   "source": [
    "# Load the text analytics client and identify key phrases\r\n",
    "response = text_analytics_client.extract_key_phrases(documents = documents)\r\n",
    "docs_phrase = [doc for doc in response if not doc.is_error]\r\n",
    "\r\n",
    "for idx, doc in enumerate(docs_phrase):\r\n",
    "    print(\"Tweet text: '{}' \\n Key Phrases '{}' \\n\".format(documents[idx], doc.key_phrases))"
   ]
  }
 ],
 "metadata": {
  "kernelspec": {
   "display_name": "Python 3.9.4 64-bit ('venv': venv)",
   "language": "python",
   "name": "python394jvsc74a57bd01a78bb1c57fed44b835555483496fc9fceab95b92965bfdb689ba832fd55d62b"
  },
  "language_info": {
   "codemirror_mode": {
    "name": "ipython",
    "version": 3
   },
   "file_extension": ".py",
   "mimetype": "text/x-python",
   "name": "python",
   "nbconvert_exporter": "python",
   "pygments_lexer": "ipython3",
   "version": "3.9.4"
  },
  "metadata": {
   "interpreter": {
    "hash": "63fd5069d213b44bf678585dea6b12cceca9941eaf7f819626cde1f2670de90d"
   }
  },
  "orig_nbformat": 2
 },
 "nbformat": 4,
 "nbformat_minor": 2
}